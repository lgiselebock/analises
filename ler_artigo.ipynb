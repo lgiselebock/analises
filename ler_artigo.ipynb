{
 "cells": [
  {
   "cell_type": "code",
   "execution_count": 1,
   "metadata": {},
   "outputs": [],
   "source": [
    "import requests\n",
    "from bs4 import BeautifulSoup"
   ]
  },
  {
   "cell_type": "code",
   "execution_count": 48,
   "metadata": {},
   "outputs": [],
   "source": [
    "with requests.Session() as s:\n",
    "                req = s.post(\"https://www1.folha.uol.com.br/colunas/marcos-lisboa/2022/06/legado-da-era-fhc-foi-solapado.shtml\")"
   ]
  },
  {
   "cell_type": "code",
   "execution_count": 51,
   "metadata": {},
   "outputs": [],
   "source": [
    "req.encoding = \"UTF-8\"\n",
    "soup = BeautifulSoup(req.text, \"html.parser\")\n",
    "pagina = soup.find_all(\"div\", {\"class\": \"c-news__body\"})"
   ]
  },
  {
   "cell_type": "code",
   "execution_count": 73,
   "metadata": {},
   "outputs": [],
   "source": [
    "lista = []\n",
    "for p in pagina:\n",
    "    p.find_all(\"p\")\n"
   ]
  },
  {
   "cell_type": "code",
   "execution_count": 81,
   "metadata": {},
   "outputs": [
    {
     "data": {
      "text/plain": [
       "'\\n\\n\\nO governo Fernando Henrique Cardoso teve a sua cota de equívocos, mas deixou um legado de fortalecimento institucional, de inovação na política social e de organização da política econômica. O Brasil passou a ter instituições de Estado com governança organizada e contrapesos mais assemelhados aos das democracias consolidadas. Esse legado, contudo, tem sido solapado há mais de uma década.\\n\\n\\nPara tentar evitar o Fla-Flu usual, melhor começar sistematizando seus equívocos antes de comentar alguns dos avanços.\\n\\n\\n\\n\\n\\n\\n\\n\\n\\n\\n\\nEdson Ikê\\n\\n\\n\\n\\nTalvez o maior erro tenha sido o processo de emenda à Constituição que permitiu a reeleição. Houve outros, como a demora na migração para o sistema de câmbio flutuante. Essa crítica, contudo, deve ser relativizada em face da incerteza, à época, sobre o impacto que a mudança provocaria na inflação, domada poucos anos antes.\\n\\n\\n\\n\\n\\n\\n\\nO desenho das agências reguladoras foi realizado apenas parcialmente e deu pouca atenção aos detalhes das experiências dos países desenvolvidos, sendo o caso da energia o mais grave.\\n\\n\\nOs avanços institucionais superaram em muito os equívocos. Ministro da Fazenda, FHC escolheu uma equipe notável, delegando com responsabilidade a implementação do Plano Real, enquanto cuidava do diálogo com o restante da sociedade, já escaldada por muitas propostas heterodoxas que haviam fracassado. Eleito presidente, promoveu o contraditório ao aceitar as críticas de modo exemplar, sem se valer da cadeira do Presidência para constranger ou retaliar.\\n\\n\\n\\n\\n\\nAté os anos 1990, eram frouxas as regras de atuação do Banco Central. O Conselho Monetário Nacional (CMN) chegou a ter mais de uma dezena de membros, muitos do setor privado, diretamente afetados pelas decisões da equipe econômica. Houve casos, como no Plano Bresser, de o CMN tomar decisões na contramão de medidas que, poucos dias depois, seriam anunciadas pelo Ministério da Fazenda. A desordem institucional não permitia que a mão direita do governo soubesse o que a mão esquerda estava prestes a fazer.\\n\\n\\nCom FHC, o Banco Central passou, paulatinamente, a organizar as suas ações e a comunicação com a sociedade. Foi criado o Copom. Apenas técnicos com reputação reconhecida passaram a ser nomeados. Mecanismos de intervenção transparentes e concorrenciais foram consolidados, passando-se a seguir os procedimentos das autoridades monetárias dos países desenvolvidos. Esse processo, liderado por Gustavo Franco, foi consolidado durante a gestão Arminio Fraga, que arrumou a casa da política monetária.\\n\\n\\n\\n\\n\\n\\nComo funciona o Copom e para que serve a taxa básica de juros\\n\\n\\n\\n\\n\\n\\n\\n\\n\\n\\n\\n\\n\\n\\n\\n\\n\\n\\n\\n\\nic_save\\n\\n\\n\\n\\n\\n\\n\\n\\n\\n\\n\\n\\n\\n\\n\\n\\n\\n\\n\\n\\n\\n\\n\\n\\n\\n\\n\\n\\n\\n\\n\\n\\n\\n\\n\\n\\n\\n\\n\\n\\n          Mais\\n          \\n\\n\\n\\n\\n\\n\\nic_share\\n\\n\\n\\n\\n\\n\\n\\n\\n\\n\\n\\nLeia Mais\\n\\n\\n\\n\\n\\n\\nÍcone fechar\\n\\n\\n\\n\\n\\n\\n\\n\\n\\n\\n\\n\\n Voltar\\n  \\n\\n\\n\\n\\n\\n\\n    Ver novamente\\n  \\n\\n\\n\\n\\n\\n\\n Voltar\\n    \\n\\n\\n\\n\\n\\n\\n\\n\\n\\n\\n\\n\\n\\n\\n\\n\\n\\n\\n\\n\\n\\n\\n\\n\\n\\n\\n\\n\\n\\n\\n Voltar\\n    \\n\\n\\n\\nCompartilhe\\n\\n\\n\\nÍcone Facebook\\n\\nFacebook\\n\\n\\n\\nÍcone Whatsapp\\n\\nWhatsapp\\n\\n\\n\\nÍcone Twitter\\n\\nTwitter\\n\\n\\n\\nÍcone de messenger\\n\\nMessenger\\n\\n\\n\\nÍcone Linkedin\\n\\nLinkedin\\n\\n\\n\\nÍcone de envelope\\n\\nE-mail\\n\\n\\n\\nÍcone de linkCadeado representando um link\\n\\nCopiar link\\n\\n\\nÍcone fechar\\n\\n\\n\\n\\n\\n\\n\\n\\n\\n\\n\\n\\nNa área social, FHC garantiu que a sua equipe podia inovar no desenho de políticas públicas para beneficiar os mais vulneráveis e ampliar a eficácia da política social. No ensino superior, por exemplo, foi criada uma remuneração variável para professores por desempenho, além de avaliação individualizada do aprendizado dos alunos no fim da graduação.\\n\\n\\nRuth Cardoso e Vilmar Faria, com o apoio de muitos técnicos, transformaram ações clientelistas de governos anteriores em políticas sociais com avaliações de impacto, cadastro dos vulneráveis e programas de Estado. Assim nasceram o Bolsa Escola e outros programas de transferência de renda, que depois foram consolidados no Bolsa Família.\\n\\n\\nO Palácio do Planalto podia muito, mas exercia seu poder com cuidado. Várias instâncias tinham de ser ouvidas, com abertura à divergência. O governo interveio em bancos públicos e privados falidos ou cercados de malfeitos, mesmo com a forte oposição de grupos de interesse, como nos casos do Banco Econômico, do Banerj e do Banespa.\\n\\n\\nParte relevante do governo revelava preferência pela guinada para um modelo de Estado centrado em política social, saúde e educação, deixando para o setor privado, sob regulação, grande parte das atividades empresariais, mas sem os vícios do patrimonialismo.\\n\\n\\nNa crise de 2002, em grande medida decorrente da incerteza sobre o rumo da política econômica que seria adotada na gestão Lula, o governo FHC cuidou com esmero da transição, facilitando o trabalho de quem chegava, como no meu caso, que assumi a Secretaria de Política Econômica. Arminio Fraga, em artigo para O Estado de S. Paulo de 31 de maio, foi modesto ao tratar do legado da equipe econômica da qual fez parte.\\n\\n\\n\\nFolha Mercado\\nReceba no seu email o que de mais importante acontece na economia; aberta para não assinantes.\\n\\n\\n\\n\\n\\n\\n\\n\\nCarregando...\\n\\n\\n\\nTivemos apoio integral de quem deixava o poder. Os dados públicos estavam organizados com transparência e competência técnica. Sabíamos onde estavam os problemas e recebemos calhamaços de propostas. Com o tempo, descobríamos os responsáveis pelo legado, como Amaury Bier e Pedro Parente, que, liderados por Pedro Malan, cuidavam da coisa pública.\\n\\n\\nOs avanços institucionais da gestão FHC foram na contramão daqueles que acreditam que governar é possuir a discricionariedade dos velhos coronéis. Esse legado, contudo, tem sido corroído na última década, com a exceção da equipe econômica de Temer, que conseguiu botar um pouco de ordem na casa, reduzindo subsídios e fortalecendo a governança das estatais, por exemplo.\\n\\n\\nDesde o fim da década de 2000, os governos ampliaram a distribuição de subsídios e proteções para empresas ou setores arbitrariamente selecionados. Houve aumento expressivo das distorções tributárias, beneficiando alguns em detrimento dos demais, regimes especiais para certos setores, como a indústria química, e proteções contra a concorrência externa, como se deu no Inovar-Auto. O Executivo ficou mais permeável a grupos de interesse.\\n\\n\\n\\u200bAs agências reguladoras foram enfraquecidas e o governo passou a intervir atabalhoadamente em empresas estatais, como a Petrobras, e em certos setores, como o de energia, sem atentar para seus efeitos colaterais danosos. Recentemente, a emenda dos precatórios significou um alongamento compulsório de dívida, medida de força típica do período de alta inflação.\\n\\n\\nO retrocesso não se restringiu ao Executivo. O Congresso se apropriou de parte relevante dos recursos discricionários do orçamento, e cada parlamentar passou a decidir, autocraticamente, quem deveria ser beneficiado pela sua cota do butim.\\n\\n\\nJá escrevi em outras colunas sobre esses retrocessos e seus impactos negativos na economia. Estava na hora de resgatar um tempo em que havia esperança. Anda a fazer falta uma nova geração como a de FHC e de Ruth Cardoso.\\n\\n'"
      ]
     },
     "execution_count": 81,
     "metadata": {},
     "output_type": "execute_result"
    }
   ],
   "source": [
    "article_text = ''\n",
    "for i in p:\n",
    "    article_text += '\\n' + ''.join(str(i.text))\n",
    "article_text"
   ]
  }
 ],
 "metadata": {
  "kernelspec": {
   "display_name": "Python 3.9.5 ('base')",
   "language": "python",
   "name": "python3"
  },
  "language_info": {
   "codemirror_mode": {
    "name": "ipython",
    "version": 3
   },
   "file_extension": ".py",
   "mimetype": "text/x-python",
   "name": "python",
   "nbconvert_exporter": "python",
   "pygments_lexer": "ipython3",
   "version": "3.9.5"
  },
  "orig_nbformat": 4,
  "vscode": {
   "interpreter": {
    "hash": "d1a16f688781a9bfa19b84f6f8835644922491388737e243f3813b24e9e1f5b1"
   }
  }
 },
 "nbformat": 4,
 "nbformat_minor": 2
}
